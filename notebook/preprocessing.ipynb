{
 "cells": [
  {
   "cell_type": "code",
   "execution_count": 2,
   "id": "96e97e80",
   "metadata": {},
   "outputs": [
    {
     "name": "stdout",
     "output_type": "stream",
     "text": [
      "Number of reviews scraped per bank:\n",
      "bank\n",
      "CBE      400\n",
      "BOA      400\n",
      "Dashn    400\n",
      "Name: count, dtype: int64\n"
     ]
    }
   ],
   "source": [
    "import pandas as pd\n",
    "\n",
    "# Load your combined dataset\n",
    "df = pd.read_csv(\"../data/raw_reviews.csv\")  # update the path if needed\n",
    "\n",
    "# Count number of rows per bank\n",
    "review_counts = df['bank'].value_counts()\n",
    "\n",
    "# Print the result\n",
    "print(\"Number of reviews scraped per bank:\")\n",
    "print(review_counts)\n"
   ]
  },
  {
   "cell_type": "code",
   "execution_count": 3,
   "id": "32716b3c",
   "metadata": {},
   "outputs": [
    {
     "name": "stdout",
     "output_type": "stream",
     "text": [
      "review    0\n",
      "rating    0\n",
      "date      0\n",
      "bank      0\n",
      "source    0\n",
      "dtype: int64\n"
     ]
    }
   ],
   "source": [
    "print(df.isnull().sum())\n"
   ]
  },
  {
   "cell_type": "code",
   "execution_count": 5,
   "id": "c84a1831",
   "metadata": {},
   "outputs": [
    {
     "name": "stdout",
     "output_type": "stream",
     "text": [
      "review    0.0\n",
      "rating    0.0\n",
      "date      0.0\n",
      "bank      0.0\n",
      "source    0.0\n",
      "dtype: float64\n"
     ]
    }
   ],
   "source": [
    "print((df.isnull().sum() / len(df)) * 100)\n"
   ]
  },
  {
   "cell_type": "code",
   "execution_count": null,
   "id": "b163e7c4",
   "metadata": {},
   "outputs": [
    {
     "name": "stdout",
     "output_type": "stream",
     "text": [
      "Found 10 duplicate rows.\n"
     ]
    }
   ],
   "source": [
    "# ✅ Check for duplicates\n",
    "duplicate_count = df.duplicated(subset=[\"review\", \"rating\", \"date\", \"bank\"]).sum()\n",
    "print(f\"Found {duplicate_count} duplicate rows.\")\n"
   ]
  },
  {
   "cell_type": "code",
   "execution_count": 30,
   "id": "60c47296",
   "metadata": {},
   "outputs": [
    {
     "name": "stdout",
     "output_type": "stream",
     "text": [
      "Duplicates removed.\n"
     ]
    }
   ],
   "source": [
    "\n",
    "# ✅ If duplicates exist, remove them\n",
    "if duplicate_count > 0:\n",
    "    df.drop_duplicates(subset=[\"review\", \"rating\", \"date\", \"bank\"], inplace=True)\n",
    "    print(\"Duplicates removed.\")\n",
    "else:\n",
    "    print(\"No duplicates found.\")"
   ]
  },
  {
   "cell_type": "code",
   "execution_count": 36,
   "id": "2e0720c2",
   "metadata": {},
   "outputs": [
    {
     "name": "stdout",
     "output_type": "stream",
     "text": [
      "Found 10 duplicate rows.\n"
     ]
    }
   ],
   "source": [
    "# ✅ Check for duplicates\n",
    "duplicate_count = df.duplicated(subset=[\"review\", \"rating\", \"date\", \"bank\"]).sum()\n",
    "print(f\"Found {duplicate_count} duplicate rows.\")\n"
   ]
  },
  {
   "cell_type": "code",
   "execution_count": 38,
   "id": "87ba97c5",
   "metadata": {},
   "outputs": [
    {
     "name": "stdout",
     "output_type": "stream",
     "text": [
      "Number of duplicate rows: 10\n",
      "                               review  rating        date   bank       source\n",
      "15                               good       5  2025-06-04   CBE   Google Play\n",
      "74                               good       5  2025-05-23   CBE   Google Play\n",
      "76                               good       5  2025-05-23   CBE   Google Play\n",
      "86                                 ok       5  2025-05-22   CBE   Google Play\n",
      "103                              best       5  2025-05-21   CBE   Google Play\n",
      "159                                ok       5  2025-05-07   CBE   Google Play\n",
      "186                              nice       5  2025-05-03   CBE   Google Play\n",
      "190                              good       5  2025-05-02   CBE   Google Play\n",
      "431                              good       4  2025-04-30   BOA   Google Play\n",
      "1014  best mobile banking application       5  2025-04-21  Dashn  Google Play\n"
     ]
    }
   ],
   "source": [
    "# Check how many duplicates exist (returns a boolean Series)\n",
    "duplicates_bool = df.duplicated(subset=[\"review\", \"rating\", \"date\", \"bank\"])\n",
    "\n",
    "# Count total duplicates\n",
    "duplicate_count = duplicates_bool.sum()\n",
    "print(f\"Number of duplicate rows: {duplicate_count}\")\n",
    "\n",
    "# To see the actual duplicate rows, you can print them:\n",
    "print(df[duplicates_bool])\n"
   ]
  },
  {
   "cell_type": "code",
   "execution_count": null,
   "id": "80edcbd1",
   "metadata": {},
   "outputs": [],
   "source": []
  },
  {
   "cell_type": "code",
   "execution_count": 47,
   "id": "ba3d9de4",
   "metadata": {},
   "outputs": [
    {
     "name": "stdout",
     "output_type": "stream",
     "text": [
      "Rows after removing duplicates: 1190\n"
     ]
    }
   ],
   "source": [
    "df_cleaned = df.drop_duplicates(subset=[\"review\", \"rating\", \"date\", \"bank\"])\n",
    "\n",
    "# Check new shape (number of rows)\n",
    "print(f\"Rows after removing duplicates: {df_cleaned.shape[0]}\")\n"
   ]
  },
  {
   "cell_type": "code",
   "execution_count": 48,
   "id": "3b06064c",
   "metadata": {},
   "outputs": [],
   "source": [
    "# Save to CSV\n",
    "import os\n",
    "\n",
    "os.makedirs(\"data\", exist_ok=True)\n",
    "df.to_csv(\"data/raw_reviews.csv\", index=False)"
   ]
  }
 ],
 "metadata": {
  "kernelspec": {
   "display_name": ".venv",
   "language": "python",
   "name": "python3"
  },
  "language_info": {
   "codemirror_mode": {
    "name": "ipython",
    "version": 3
   },
   "file_extension": ".py",
   "mimetype": "text/x-python",
   "name": "python",
   "nbconvert_exporter": "python",
   "pygments_lexer": "ipython3",
   "version": "3.13.2"
  }
 },
 "nbformat": 4,
 "nbformat_minor": 5
}
